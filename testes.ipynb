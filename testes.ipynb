{
 "cells": [
  {
   "cell_type": "code",
   "execution_count": 1,
   "metadata": {},
   "outputs": [],
   "source": [
    "from abc import ABC, abstractmethod\n",
    "from datetime import datetime\n",
    "\n",
    "import json"
   ]
  },
  {
   "cell_type": "markdown",
   "metadata": {},
   "source": [
    "# Classes"
   ]
  },
  {
   "cell_type": "markdown",
   "metadata": {},
   "source": [
    "#### Transacao"
   ]
  },
  {
   "cell_type": "code",
   "execution_count": 2,
   "metadata": {},
   "outputs": [],
   "source": [
    "class Transacao(ABC):\n",
    "    @property\n",
    "    def valor(self):\n",
    "        pass\n",
    "\n",
    "    @abstractmethod\n",
    "    def registrar(self, conta):\n",
    "        self.conta = conta"
   ]
  },
  {
   "cell_type": "markdown",
   "metadata": {},
   "source": [
    "#### Deposito"
   ]
  },
  {
   "cell_type": "code",
   "execution_count": 3,
   "metadata": {},
   "outputs": [],
   "source": [
    "class Deposito(Transacao):\n",
    "    def __init__(self, valor):\n",
    "        self.__valor = valor\n",
    "\n",
    "    @property\n",
    "    def valor(self):\n",
    "        return self.__valor\n",
    "    \n",
    "    def registrar(self, conta):\n",
    "        sucesso = conta.depositar(self.valor)\n",
    "        if sucesso:\n",
    "            conta.historico.adicionar_transacao(self)"
   ]
  },
  {
   "cell_type": "markdown",
   "metadata": {},
   "source": [
    "#### Saque"
   ]
  },
  {
   "cell_type": "code",
   "execution_count": 4,
   "metadata": {},
   "outputs": [],
   "source": [
    "class Saque(Transacao):\n",
    "    def __init__(self, valor):\n",
    "        self.__valor = valor\n",
    "    \n",
    "    @property\n",
    "    def valor(self):\n",
    "        return self.__valor\n",
    "\n",
    "    def registrar(self, conta):\n",
    "        sucesso = conta.sacar(self.valor)\n",
    "        if sucesso:\n",
    "            conta.historico.adicionar_transacao(self)"
   ]
  },
  {
   "cell_type": "markdown",
   "metadata": {},
   "source": [
    "#### Cliente"
   ]
  },
  {
   "cell_type": "code",
   "execution_count": 5,
   "metadata": {},
   "outputs": [],
   "source": [
    "class Cliente():\n",
    "    def __init__(self, endereco: str):\n",
    "        self.__endereco = endereco\n",
    "        self.__contas = []\n",
    "    \n",
    "    @property\n",
    "    def endereco(self):\n",
    "        return self.__endereco\n",
    "\n",
    "    def realizar_transacao(self, conta, transacao):\n",
    "        transacao.registrar(conta)\n",
    "\n",
    "    def adicionar_conta(self, conta):\n",
    "        pass"
   ]
  },
  {
   "cell_type": "markdown",
   "metadata": {},
   "source": [
    "#### PessoaFisica *"
   ]
  },
  {
   "cell_type": "code",
   "execution_count": 6,
   "metadata": {},
   "outputs": [],
   "source": [
    "class PessoaFisica(Cliente):\n",
    "    def __init__(self, endereco: str, cpf: str, nome: str, data_nascimento):\n",
    "        super().__init__(endereco)\n",
    "        self.__cpf = cpf\n",
    "        self.__nome = nome\n",
    "        self.__data_nascimento = data_nascimento\n",
    "    \n",
    "    @property\n",
    "    def cpf(self):\n",
    "        return self.__cpf\n",
    "    \n",
    "    @property\n",
    "    def nome(self):\n",
    "        return self.__nome\n",
    "    \n",
    "    @property\n",
    "    def data_nascimento(self):\n",
    "        return self.__data_nascimento\n",
    "    \n",
    "    def __str__(self):\n",
    "        return (f\"\"\"\n",
    "            nome: {self.nome}\n",
    "            cpf: {self.cpf}\n",
    "            data_nascimento: {self.data_nascimento}\n",
    "            endereco: {self.endereco}\n",
    "        \"\"\")"
   ]
  },
  {
   "cell_type": "markdown",
   "metadata": {},
   "source": [
    "#### Historico *"
   ]
  },
  {
   "cell_type": "code",
   "execution_count": 7,
   "metadata": {},
   "outputs": [],
   "source": [
    "class Historico():\n",
    "    def __init__(self) -> None:\n",
    "        self.__transacoes = []\n",
    "    \n",
    "    @property\n",
    "    def transacoes(self):\n",
    "        return self.__transacoes\n",
    "\n",
    "    def adicionar_transacao(self, transacao):\n",
    "        self.__transacoes.append(\n",
    "            {\n",
    "                \"tipo\": transacao.__class__.__name__,\n",
    "                \"valor\": transacao.valor,\n",
    "                \"data\": datetime.now().strftime(\"%d-%m-%Y %H:%M:%S\")\n",
    "            }\n",
    "        )"
   ]
  },
  {
   "cell_type": "markdown",
   "metadata": {},
   "source": [
    "#### Conta *"
   ]
  },
  {
   "cell_type": "code",
   "execution_count": 8,
   "metadata": {},
   "outputs": [],
   "source": [
    "class Conta():\n",
    "    def __init__(self, numero_conta, cliente):\n",
    "        self.__saldo = 0\n",
    "        self.__numero_conta = numero_conta\n",
    "        self.__agencia = \"0001\"\n",
    "        self.__cliente = cliente\n",
    "        self.__historico = Historico()\n",
    "\n",
    "    @property\n",
    "    def saldo(self):\n",
    "        return self.__saldo\n",
    "    \n",
    "    @property\n",
    "    def numero_conta(self):\n",
    "        return self.__numero_conta\n",
    "    \n",
    "    @property\n",
    "    def agencia(self):\n",
    "        return self.__agencia\n",
    "    \n",
    "    @property\n",
    "    def cliente(self):\n",
    "        return self.__cliente\n",
    "    \n",
    "    @property\n",
    "    def historico(self):\n",
    "        return self.__historico\n",
    "    \n",
    "    @classmethod\n",
    "    def nova_conta(cls, cliente, numero_conta):\n",
    "        return cls(numero_conta, cliente)\n",
    "    \n",
    "    def sacar(self, valor):\n",
    "        saldo = self.saldo\n",
    "        excedeu_saldo = valor > saldo\n",
    "        \n",
    "        if valor > 0:\n",
    "            if excedeu_saldo:\n",
    "                print(\"Voce nao possui saldo suficiente!\")\n",
    "            else:\n",
    "                self.__saldo -= valor\n",
    "                print(f\"Saque de R${valor:.2f} realizado com sucesso!\")\n",
    "                return True\n",
    "        else:\n",
    "            print(\"O valor para o saque é invalido!\")\n",
    "        return False\n",
    "    \n",
    "    def depositar(self, valor):\n",
    "        if valor > 0:\n",
    "            self.__saldo += valor\n",
    "            print(f\"Deposito de R${valor:.2f} realizado com sucesso!\")\n",
    "        else:\n",
    "            print(\"O valor para o deposito é invalido!\")\n",
    "            return False\n",
    "        return True"
   ]
  },
  {
   "cell_type": "markdown",
   "metadata": {},
   "source": [
    "#### ContaCorrente *"
   ]
  },
  {
   "cell_type": "code",
   "execution_count": 9,
   "metadata": {},
   "outputs": [],
   "source": [
    "class ContaCorrente(Conta):\n",
    "    def __init__(self, numero_conta: int,  cliente: str, limite=500, limite_saques=3):\n",
    "        super().__init__(numero_conta, cliente)\n",
    "        self.__limite = limite\n",
    "        self.__limite_saques = limite_saques\n",
    "\n",
    "    def sacar(self, valor):\n",
    "        qtd_saques = len(\n",
    "            [transacao for transacao in self.historico.transacoes if transacao[\"tipo\"] == Saque.__name__]\n",
    "        )\n",
    "        excedeu_limite = valor > self.__limite\n",
    "        excedeu_saques = qtd_saques >= self.__limite_saques\n",
    "\n",
    "        if excedeu_limite:\n",
    "            print(\"O valor de saque excede o limite!\")\n",
    "        if excedeu_saques:\n",
    "            print(\"Numero maximo de saques excedido!\")\n",
    "        else:\n",
    "            return super().sacar(valor)\n",
    "        \n",
    "        return False\n",
    "    \n",
    "    def __str__(self):\n",
    "        return (f\"\"\"\n",
    "            numero_conta: {self.numero_conta}\n",
    "            cliente: {self.cliente.nome}\n",
    "            agencia: {self.agencia}\n",
    "            saldo: {self.saldo}\n",
    "            historico: {self.historico.transacoes}\n",
    "        \"\"\")"
   ]
  },
  {
   "cell_type": "markdown",
   "metadata": {},
   "source": [
    "# Funçoes"
   ]
  },
  {
   "cell_type": "markdown",
   "metadata": {},
   "source": [
    "#### menu *"
   ]
  },
  {
   "cell_type": "code",
   "execution_count": 10,
   "metadata": {},
   "outputs": [],
   "source": [
    "def menu():\n",
    "    menu = \"\"\"\n",
    "===================== SISTEMA BANCARIO =====================\n",
    "    [d]  Depositar\n",
    "    [s]  Sacar\n",
    "    [e]  Extrato\n",
    "    [nc] Nova conta\n",
    "    [lc] Listar contas\n",
    "    [nu] Novo usuario\n",
    "    [lu] Listar usuarios\n",
    "    [q]  Sair\n",
    "    => \"\"\"\n",
    "    return input(menu)"
   ]
  },
  {
   "cell_type": "markdown",
   "metadata": {},
   "source": [
    "#### filtrar_clientes"
   ]
  },
  {
   "cell_type": "code",
   "execution_count": 11,
   "metadata": {},
   "outputs": [],
   "source": [
    "def filtrar_clientes(cpf, clientes):\n",
    "    cliente_filtrado = [cliente for cliente in clientes if cliente.cpf == cpf]\n",
    "    return cliente_filtrado[0] if cliente_filtrado else None"
   ]
  },
  {
   "cell_type": "markdown",
   "metadata": {},
   "source": [
    "#### filtrar_conta *"
   ]
  },
  {
   "cell_type": "code",
   "execution_count": 12,
   "metadata": {},
   "outputs": [],
   "source": [
    "def filtrar_contas(numero_conta, contas, cliente):\n",
    "    conta_filtrada = [conta for conta in contas if conta.cliente == cliente and conta.numero_conta == numero_conta]\n",
    "    return conta_filtrada[0] if conta_filtrada else None\n"
   ]
  },
  {
   "cell_type": "markdown",
   "metadata": {},
   "source": [
    "#### depositar *"
   ]
  },
  {
   "cell_type": "code",
   "execution_count": 13,
   "metadata": {},
   "outputs": [],
   "source": [
    "def depositar(clientes, contas):\n",
    "    cpf = input(\"Informe o CPF (somente numeros): \")\n",
    "\n",
    "    if cpf.isdigit():\n",
    "        cliente = filtrar_clientes(cpf, clientes)\n",
    "        if not cliente:\n",
    "            print(\"Cliente nao encontrado!\")\n",
    "            return\n",
    "        \n",
    "        numero_conta = input(\"Informe o numero da conta: \")\n",
    "\n",
    "        if numero_conta.isdigit():\n",
    "            numero_conta = float(numero_conta)\n",
    "            conta = filtrar_contas(numero_conta, contas, cliente)\n",
    "            if not conta:\n",
    "                print(\"Conta nao encontrada!\")\n",
    "                return\n",
    "\n",
    "            valor = float(input(\"Quanto deseja depositar? \"))\n",
    "            transacao = Deposito(valor)\n",
    "\n",
    "            # cliente.realizar_transacao(conta, transacao)\n",
    "            transacao.registrar(conta)\n",
    "        else:\n",
    "            print(\"Numero de conta invalido!\")\n",
    "    else:\n",
    "        print(\"Numero de CPF invalido!\")"
   ]
  },
  {
   "cell_type": "markdown",
   "metadata": {},
   "source": [
    "#### sacar"
   ]
  },
  {
   "cell_type": "code",
   "execution_count": 14,
   "metadata": {},
   "outputs": [],
   "source": [
    "def sacar(clientes, contas):\n",
    "    cpf = input(\"Informe o CPF (somente numeros): \")\n",
    "\n",
    "    if cpf.isdigit():\n",
    "        cliente = filtrar_clientes(cpf, clientes)\n",
    "        if not cliente:\n",
    "            print(\"Cliente nao encontrado!\")\n",
    "            return\n",
    "        \n",
    "        numero_conta = input(\"Informe o numero da conta: \")\n",
    "\n",
    "        if numero_conta.isdigit():\n",
    "            numero_conta = float(numero_conta)\n",
    "            conta = filtrar_contas(numero_conta, contas, cliente)\n",
    "            if not conta:\n",
    "                print(\"Conta nao encontrada!\")\n",
    "                return\n",
    "\n",
    "            valor = float(input(\"Quanto deseja sacar? \"))\n",
    "            transacao = Saque(valor)\n",
    "\n",
    "            # cliente.realizar_transacao(conta, transacao)\n",
    "            transacao.registrar(conta)\n",
    "        else:\n",
    "            print(\"O numero da conta é invalido!\")\n",
    "    else:\n",
    "        print(\"O numero do CPF é invalido!\")"
   ]
  },
  {
   "cell_type": "markdown",
   "metadata": {},
   "source": [
    "#### extrato_completo"
   ]
  },
  {
   "cell_type": "code",
   "execution_count": 15,
   "metadata": {},
   "outputs": [],
   "source": [
    "def extrato_completo(clientes, contas):\n",
    "    cpf = input(\"Informe o CPF (somente numeros): \")\n",
    "\n",
    "    if cpf.isdigit():\n",
    "        cliente = filtrar_clientes(cpf, clientes)\n",
    "        if not cliente:\n",
    "            print(\"Cliente nao encontrado!\")\n",
    "            return\n",
    "        \n",
    "        numero_conta = input(\"Informe o numero da conta: \")\n",
    "\n",
    "        if numero_conta.isdigit():\n",
    "            numero_conta = float(numero_conta)\n",
    "            conta = filtrar_contas(numero_conta, contas, cliente)\n",
    "            if not conta:\n",
    "                print(\"Conta nao encontrada!\")\n",
    "                return\n",
    "            \n",
    "            print(\"\\n======================= EXTRATO =======================\")\n",
    "            transacoes = conta.historico.transacoes\n",
    "\n",
    "            if not transacoes:\n",
    "                print(\"Nao houveram movimentaçoes nesta conta.\")\n",
    "            else:\n",
    "                for transacao in transacoes:\n",
    "                    print(f\"Tipo: {transacao['tipo']} | Valor: {transacao['valor']} | Data: {transacao['data']}\")\n",
    "            print(f\"Saldo: {conta.saldo:.2f}\")\n",
    "            \n",
    "        else:\n",
    "            print(\"Numero de conta invalido!\")\n",
    "    else:\n",
    "        print(\"Numero de CPF invalido!\")"
   ]
  },
  {
   "cell_type": "markdown",
   "metadata": {},
   "source": [
    "#### gravar_transacao"
   ]
  },
  {
   "cell_type": "code",
   "execution_count": 16,
   "metadata": {},
   "outputs": [],
   "source": [
    "def gravar_transacao(quantia, extrato):\n",
    "    data = datetime.now().strftime('%Y-%m-%d %H:%M:%S')\n",
    "    if opcao == \"d\":\n",
    "        extrato.append([data, \"Deposito\", quantia])\n",
    "    elif opcao == \"s\":\n",
    "        extrato.append([data, \"Saque\", quantia])"
   ]
  },
  {
   "cell_type": "markdown",
   "metadata": {},
   "source": [
    "#### criar_cliente *"
   ]
  },
  {
   "cell_type": "code",
   "execution_count": 17,
   "metadata": {},
   "outputs": [],
   "source": [
    "def criar_cliente(clientes):\n",
    "    cpf = input(\"Digite o CPF (somente números): \")\n",
    "    cliente = filtrar_clientes(cpf, clientes)\n",
    "\n",
    "    if cliente:\n",
    "        print(\"Usuário já existe!\")\n",
    "        return False\n",
    "\n",
    "    nome = input(\"Nome: \")\n",
    "    data_nascimento = input(\"Data de nascimento: \")\n",
    "    endereco = input(\"Endereço: (logradouro, nro - bairro - cidade/sigla estado) \")\n",
    "\n",
    "    cliente = PessoaFisica(\n",
    "        endereco = endereco, \n",
    "        cpf = cpf, \n",
    "        nome = nome, \n",
    "        data_nascimento = data_nascimento\n",
    "    )\n",
    "    clientes.append(cliente)\n",
    "\n",
    "    print(\"Cliente criado com sucesso!\")"
   ]
  },
  {
   "cell_type": "markdown",
   "metadata": {},
   "source": [
    "#### criar_conta_corrente"
   ]
  },
  {
   "cell_type": "code",
   "execution_count": 18,
   "metadata": {},
   "outputs": [],
   "source": [
    "def criar_conta_corrente(numero_conta, clientes, contas):\n",
    "    cpf = input(\"Digite o CPF (somente números): \")\n",
    "    cliente = filtrar_clientes(cpf, clientes)\n",
    "\n",
    "    if not cliente:\n",
    "        print(\"Usuário não encontrado!\")\n",
    "        return False\n",
    "\n",
    "    conta = ContaCorrente.nova_conta(\n",
    "        numero_conta = numero_conta,\n",
    "        cliente = cliente\n",
    "    )\n",
    "    contas.append(conta)\n",
    "    # cliente.contas.append(conta)\n",
    "    \n",
    "    print(\"Conta criada com sucesso!\")"
   ]
  },
  {
   "cell_type": "markdown",
   "metadata": {},
   "source": [
    "#### listar_clientes *"
   ]
  },
  {
   "cell_type": "code",
   "execution_count": 19,
   "metadata": {},
   "outputs": [],
   "source": [
    "def listar_clientes(clientes):\n",
    "    print(\"=================== CLIENTES ========================\")\n",
    "\n",
    "    for cliente in clientes:\n",
    "        print(f\"Titular: {cliente.nome} | CPF: {cliente.cpf} | Nascimento: {cliente.data_nascimento} | Endereço: {cliente.endereco}\")\n"
   ]
  },
  {
   "cell_type": "markdown",
   "metadata": {},
   "source": [
    "#### listar_contas"
   ]
  },
  {
   "cell_type": "code",
   "execution_count": 20,
   "metadata": {},
   "outputs": [],
   "source": [
    "def listar_contas(contas):\n",
    "    print(\"==================== CONTAS =========================\")\n",
    "\n",
    "    for conta in contas:\n",
    "        print(f\"Conta: {conta.numero_conta} | Cliente: {conta.cliente.nome} | Agencia: {conta.agencia} | Saldo: {conta.saldo}\")"
   ]
  },
  {
   "cell_type": "markdown",
   "metadata": {},
   "source": [
    "# Main() *"
   ]
  },
  {
   "cell_type": "code",
   "execution_count": 21,
   "metadata": {},
   "outputs": [],
   "source": [
    "def main():\n",
    "\n",
    "    clientes = []\n",
    "    contas = []\n",
    "\n",
    "    while True:\n",
    "        \n",
    "        opcao = menu()\n",
    "\n",
    "        if opcao == \"d\":\n",
    "            depositar(clientes, contas)\n",
    " \n",
    "        elif opcao == \"s\":\n",
    "            sacar(clientes, contas)\n",
    "\n",
    "        elif opcao == \"e\":\n",
    "            extrato_completo(clientes, contas)\n",
    "\n",
    "        elif opcao == \"nc\":\n",
    "            numero_conta = len(contas) + 1\n",
    "            criar_conta_corrente(numero_conta, clientes, contas)\n",
    "\n",
    "        elif opcao == \"lc\":\n",
    "            listar_contas(contas)\n",
    "\n",
    "        elif opcao == \"nu\":\n",
    "            criar_cliente(clientes)\n",
    "        \n",
    "        elif opcao == \"lu\":\n",
    "            listar_clientes(clientes)\n",
    "\n",
    "        elif opcao == \"q\":\n",
    "            break\n",
    "\n",
    "        else:\n",
    "            print('Operaçao invalida!')"
   ]
  },
  {
   "cell_type": "code",
   "execution_count": 23,
   "metadata": {},
   "outputs": [],
   "source": [
    "main()"
   ]
  },
  {
   "cell_type": "markdown",
   "metadata": {},
   "source": [
    "# Testes de Funcionalidade"
   ]
  },
  {
   "cell_type": "markdown",
   "metadata": {},
   "source": [
    "#### Criaçao de cliente e conta"
   ]
  },
  {
   "cell_type": "code",
   "execution_count": 22,
   "metadata": {},
   "outputs": [],
   "source": [
    "clientes = []\n",
    "contas = []"
   ]
  },
  {
   "cell_type": "code",
   "execution_count": null,
   "metadata": {},
   "outputs": [],
   "source": [
    "criar_cliente(clientes)"
   ]
  },
  {
   "cell_type": "code",
   "execution_count": null,
   "metadata": {},
   "outputs": [],
   "source": [
    "for cliente in clientes:\n",
    "    print(cliente)"
   ]
  },
  {
   "cell_type": "code",
   "execution_count": null,
   "metadata": {},
   "outputs": [],
   "source": [
    "numero_conta = len(contas) + 1\n",
    "criar_conta_corrente(\n",
    "    numero_conta = numero_conta,\n",
    "    clientes = clientes, \n",
    "    contas = contas,\n",
    ")"
   ]
  },
  {
   "cell_type": "code",
   "execution_count": null,
   "metadata": {},
   "outputs": [],
   "source": [
    "for conta in contas:\n",
    "    print(conta)"
   ]
  },
  {
   "cell_type": "markdown",
   "metadata": {},
   "source": [
    "#### Teste de deposito e saque"
   ]
  },
  {
   "cell_type": "code",
   "execution_count": null,
   "metadata": {},
   "outputs": [],
   "source": [
    "depositar(clientes, contas)"
   ]
  },
  {
   "cell_type": "code",
   "execution_count": null,
   "metadata": {},
   "outputs": [],
   "source": [
    "sacar(clientes, contas)"
   ]
  },
  {
   "cell_type": "code",
   "execution_count": null,
   "metadata": {},
   "outputs": [],
   "source": [
    "extrato_completo(clientes)"
   ]
  }
 ],
 "metadata": {
  "kernelspec": {
   "display_name": "Python 3",
   "language": "python",
   "name": "python3"
  },
  "language_info": {
   "codemirror_mode": {
    "name": "ipython",
    "version": 3
   },
   "file_extension": ".py",
   "mimetype": "text/x-python",
   "name": "python",
   "nbconvert_exporter": "python",
   "pygments_lexer": "ipython3",
   "version": "3.11.9"
  }
 },
 "nbformat": 4,
 "nbformat_minor": 2
}
