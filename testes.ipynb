{
 "cells": [
  {
   "cell_type": "code",
   "execution_count": 4,
   "metadata": {},
   "outputs": [],
   "source": [
    "from abc import ABC, abstractmethod\n",
    "from datetime import datetime"
   ]
  },
  {
   "cell_type": "markdown",
   "metadata": {},
   "source": [
    "### Classes"
   ]
  },
  {
   "cell_type": "code",
   "execution_count": 5,
   "metadata": {},
   "outputs": [],
   "source": [
    "class Transacao(ABC):\n",
    "    @abstractmethod\n",
    "    def registrar(self, conta):\n",
    "        self.conta = conta"
   ]
  },
  {
   "cell_type": "code",
   "execution_count": 6,
   "metadata": {},
   "outputs": [],
   "source": [
    "class Deposito(Transacao):\n",
    "    def __init__(self, valor):\n",
    "        self.__valor = valor\n",
    "\n",
    "    @property\n",
    "    def valor(self):\n",
    "        return self.__valor\n",
    "    \n",
    "    def registrar(self, conta):\n",
    "        pass"
   ]
  },
  {
   "cell_type": "code",
   "execution_count": 7,
   "metadata": {},
   "outputs": [],
   "source": [
    "class Saque(Transacao):\n",
    "    def __init__(self, valor):\n",
    "        self.__valor = valor\n",
    "    \n",
    "    @property\n",
    "    def valor(self):\n",
    "        return self.__valor\n",
    "\n",
    "    def registrar(self, conta):\n",
    "        pass"
   ]
  },
  {
   "cell_type": "code",
   "execution_count": 8,
   "metadata": {},
   "outputs": [],
   "source": [
    "class Cliente():\n",
    "    def __init__(self, endereco: str):\n",
    "        self.__endereco = endereco\n",
    "        self.__contas = []\n",
    "\n",
    "    def realizar_transacao(self, conta, transacao):\n",
    "        pass\n",
    "\n",
    "    def adicionar_conta(self, conta):\n",
    "        pass"
   ]
  },
  {
   "cell_type": "code",
   "execution_count": 10,
   "metadata": {},
   "outputs": [],
   "source": [
    "class PessoaFisica(Cliente):\n",
    "    def __init__(self, endereco: str, cpf: str, nome: str, data_nascimento):\n",
    "        super().__init__(endereco)\n",
    "        self.__cpf = cpf\n",
    "        self.__nome = nome\n",
    "        self.__data_nascimento = data_nascimento"
   ]
  },
  {
   "cell_type": "code",
   "execution_count": 11,
   "metadata": {},
   "outputs": [],
   "source": [
    "class Historico():\n",
    "    def __init__(self, transacoes) -> None:\n",
    "        self.__transacoes = []\n",
    "\n",
    "    def adicionar_transacao(self, transacao):\n",
    "        pass"
   ]
  },
  {
   "cell_type": "code",
   "execution_count": 12,
   "metadata": {},
   "outputs": [],
   "source": [
    "class Conta():\n",
    "    def __init__(self, numero: int) -> None:\n",
    "        self.__saldo = 0\n",
    "        self.__numero = numero\n",
    "        self.__agencia = \"0001\"\n",
    "        self.__cliente = Cliente()\n",
    "        self.__historico = Historico()\n",
    "\n",
    "    @property\n",
    "    def saldo(self):\n",
    "        return self.__saldo\n",
    "    \n",
    "    @property\n",
    "    def numero(self):\n",
    "        return self.__numero\n",
    "    \n",
    "    @property\n",
    "    def agencia(self):\n",
    "        return self.__agencia\n",
    "    \n",
    "    @property\n",
    "    def cliente(self):\n",
    "        return self.__cliente\n",
    "    \n",
    "    @property\n",
    "    def historico(self):\n",
    "        return self.__historico\n",
    "    \n",
    "    @classmethod\n",
    "    def nova_conta(cls, numero):\n",
    "        return cls(numero)\n",
    "    \n",
    "    def depositar(self, valor: float) -> bool:\n",
    "        if valor > 0:\n",
    "            self.__saldo = valor\n",
    "            print(f\"Seu deposito de R${valor:.2f} foi efetuado!\")\n",
    "        else:\n",
    "            print(\"Nao foi possivel realizar o deposito. Tente novamente.\")\n",
    "            return False\n",
    "        return True\n",
    "\n",
    "    def sacar(self, valor: float) -> bool:\n",
    "        pass"
   ]
  },
  {
   "cell_type": "code",
   "execution_count": 13,
   "metadata": {},
   "outputs": [],
   "source": [
    "class ContaCorrente(Conta):\n",
    "    def __init__(self, numero: int, limite: float, limite_saques: int) -> None:\n",
    "        super().__init__(numero)\n",
    "        self.__limite = limite\n",
    "        self.__limite_saques = limite_saques"
   ]
  },
  {
   "cell_type": "markdown",
   "metadata": {},
   "source": [
    "### Funçoes"
   ]
  },
  {
   "cell_type": "code",
   "execution_count": 14,
   "metadata": {},
   "outputs": [],
   "source": [
    "def menu():\n",
    "    menu = \"\"\"\n",
    "===================== SISTEMA BANCARIO =====================\n",
    "    [d] Depositar\n",
    "    [s] Sacar\n",
    "    [e] Extrato\n",
    "    [nc] Nova conta\n",
    "    [lc] Listar contas\n",
    "    [nu] Novo usuario\n",
    "    [q] Sair\n",
    "    => \"\"\"\n",
    "    return input(menu)"
   ]
  },
  {
   "cell_type": "code",
   "execution_count": 15,
   "metadata": {},
   "outputs": [],
   "source": [
    "def depositar(saldo, quantia, /):\n",
    "    if quantia > 0:\n",
    "        saldo += quantia\n",
    "        print(f\"Seu deposito de R${quantia:.2f} foi efetuado!\")\n",
    "    else:\n",
    "        print(\"Nao foi possivel realizar o deposito. Tente novamente.\")"
   ]
  },
  {
   "cell_type": "code",
   "execution_count": 16,
   "metadata": {},
   "outputs": [],
   "source": [
    "def sacar(*, saldo, quantia, numero_saques, limite_por_saque, LIMITE_SAQUES):\n",
    "    regra_saldo = saldo >= quantia\n",
    "    regra_limite = limite_por_saque >= quantia\n",
    "    regra_saque = numero_saques < LIMITE_SAQUES\n",
    "    if quantia > 0:\n",
    "        if not regra_saldo:\n",
    "            print(\"Voce nao tem saldo para realizar esta operaçao. Confira no extrato e tente novamente.\")\n",
    "        elif not regra_limite:\n",
    "            print(\"Voce nao tem limite para realizar esta operaçao. Confira no extrato e tente novamente.\")\n",
    "        elif not regra_saque:\n",
    "            print(\"Voce nao tem saque disponivel para realizar esta operaçao. Confira no extrato e tente novamente.\")\n",
    "        else:\n",
    "            saldo -= quantia\n",
    "            numero_saques += 1\n",
    "            print(f\"Seu saque de R${quantia:.2f} foi efetuado!\")"
   ]
  },
  {
   "cell_type": "code",
   "execution_count": 17,
   "metadata": {},
   "outputs": [],
   "source": [
    "def extrato_completo(saldo, /, *, extrato, numero_saques, LIMITE_SAQUES):\n",
    "    qtd_saques = LIMITE_SAQUES - numero_saques\n",
    "    cabecalhos = [\"Data\", \"Tipo\", \"Valor\"]\n",
    "    print(\"===================  EXTRATO ========================\")\n",
    "    print(f\"Seu saldo é de R${saldo:.2f}.\")\n",
    "    print(f\"Voce tem {qtd_saques} saque(s).\")\n",
    "    print(\"=================== HISTORICO =======================\")\n",
    "    if extrato:\n",
    "        print(f\"{cabecalhos[0].center(20)} | {cabecalhos[1].center(10)} | {cabecalhos[2].center(10)}\")\n",
    "        for reg in extrato:\n",
    "            print(f\"{reg[0].center(20)} | {reg[1].center(10)} | {reg[2]}\")\n",
    "    else:\n",
    "        print(\"Nao houveram movimentaçoes.\")"
   ]
  },
  {
   "cell_type": "code",
   "execution_count": 18,
   "metadata": {},
   "outputs": [],
   "source": [
    "def gravar_transacao(quantia, extrato):\n",
    "    data = datetime.now().strftime('%Y-%m-%d %H:%M:%S')\n",
    "    if opcao == \"d\":\n",
    "        extrato.append([data, \"Deposito\", quantia])\n",
    "    elif opcao == \"s\":\n",
    "        extrato.append([data, \"Saque\", quantia])"
   ]
  },
  {
   "cell_type": "code",
   "execution_count": 19,
   "metadata": {},
   "outputs": [],
   "source": [
    "def filtrar_usuarios(cpf, usuarios):\n",
    "    usuario_filtrado = [usuario for usuario in usuarios if usuario[\"cpf\"] == cpf]\n",
    "    return usuario_filtrado[0] if usuario_filtrado else None"
   ]
  },
  {
   "cell_type": "code",
   "execution_count": 20,
   "metadata": {},
   "outputs": [],
   "source": [
    "def criar_usuario(usuarios):\n",
    "\n",
    "    cpf = input(\"Digite o CPF (somente números): \")\n",
    "    usuario = filtrar_usuarios(cpf, usuarios)\n",
    "\n",
    "    if usuario:\n",
    "        print(\"Usuário já existe\")\n",
    "        return\n",
    "\n",
    "    nome = input(\"Nome: \")\n",
    "    data_nascimento = input(\"Data de nascimento: \")\n",
    "    endereco = input(\"Endereço: (logradouro, nro - bairro - cidade/sigla estado) \")\n",
    "\n",
    "    usuarios.append({\"nome\": nome, \"data_nascimento\": data_nascimento, \"cpf\": cpf, \"endereco\": endereco})\n",
    "\n",
    "    print(\"=== Usuário criado com sucesso! ===\")"
   ]
  },
  {
   "cell_type": "code",
   "execution_count": 21,
   "metadata": {},
   "outputs": [],
   "source": [
    "def criar_conta_corrente(agencia, numero_conta, usuarios):\n",
    "\n",
    "    cpf = input(\"Digite o CPF (somente números): \")\n",
    "    usuario = filtrar_usuarios(cpf, usuarios)\n",
    "\n",
    "    if usuario:\n",
    "        print(\"=== Conta criada com sucesso! ===\")\n",
    "        return {\"agencia\": agencia, \"numero_conta\": numero_conta, \"usuario\": usuario}\n",
    "    \n",
    "    else:\n",
    "        print(\"=== Usuário não encontrado! ===\")"
   ]
  },
  {
   "cell_type": "code",
   "execution_count": 22,
   "metadata": {},
   "outputs": [],
   "source": [
    "def listar_contas(contas):\n",
    "    print(\"=================== CONTAS ========================\")\n",
    "\n",
    "    for conta in contas:\n",
    "        saida = f\"\"\"\n",
    "            Agencia: {conta['agencia']}\n",
    "            Conta Corrente: {conta['numero_conta']}\n",
    "            Titular: {conta['usuario']}\n",
    "        \"\"\"\n",
    "        print(saida)"
   ]
  },
  {
   "cell_type": "markdown",
   "metadata": {},
   "source": [
    "### Main()"
   ]
  },
  {
   "cell_type": "code",
   "execution_count": 23,
   "metadata": {},
   "outputs": [],
   "source": [
    "def main():\n",
    "\n",
    "    clientes = []\n",
    "    contas = []\n",
    "\n",
    "    while True:\n",
    "        \n",
    "        opcao = menu()\n",
    "\n",
    "        if opcao == \"d\":\n",
    "            quantia = float(input(\"Qual quantia deseja depositar? \"))\n",
    "            depositar(saldo, quantia)\n",
    "            gravar_transacao(quantia, extrato)\n",
    "\n",
    "        elif opcao == \"s\":\n",
    "            quantia = float(input(\"Qual quantia deseja sacar? \"))\n",
    "            sacar(\n",
    "                saldo = saldo, \n",
    "                quantia = quantia, \n",
    "                numero_saques = numero_saques, \n",
    "                limite_por_saque = limite_por_saque, \n",
    "                LIMITE_SAQUES = LIMITE_SAQUES\n",
    "            )\n",
    "            gravar_transacao(quantia, extrato)\n",
    "\n",
    "        elif opcao == \"e\":\n",
    "            extrato_completo(\n",
    "                saldo, extrato = extrato, \n",
    "                numero_saques = numero_saques, \n",
    "                LIMITE_SAQUES = LIMITE_SAQUES\n",
    "            )\n",
    "\n",
    "        elif opcao == \"nc\":\n",
    "            numero_conta = len(contas) + 1\n",
    "            conta = criar_conta_corrente(AGENCIA, numero_conta, usuarios)\n",
    "\n",
    "            if conta:\n",
    "                contas.append(conta)\n",
    "\n",
    "        elif opcao == \"lc\":\n",
    "            listar_contas(contas)\n",
    "\n",
    "        elif opcao == \"nu\":\n",
    "            criar_usuario(usuarios)\n",
    "\n",
    "        elif opcao == \"q\":\n",
    "            break\n",
    "\n",
    "        else:\n",
    "            print('Operaçao invalida!')"
   ]
  },
  {
   "cell_type": "markdown",
   "metadata": {},
   "source": [
    "### Teste de Funcionalidade: DEPOSITAR"
   ]
  },
  {
   "cell_type": "code",
   "execution_count": null,
   "metadata": {},
   "outputs": [],
   "source": []
  }
 ],
 "metadata": {
  "kernelspec": {
   "display_name": "Python 3",
   "language": "python",
   "name": "python3"
  },
  "language_info": {
   "codemirror_mode": {
    "name": "ipython",
    "version": 3
   },
   "file_extension": ".py",
   "mimetype": "text/x-python",
   "name": "python",
   "nbconvert_exporter": "python",
   "pygments_lexer": "ipython3",
   "version": "3.11.9"
  }
 },
 "nbformat": 4,
 "nbformat_minor": 2
}
